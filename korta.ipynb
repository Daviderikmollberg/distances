{
 "cells": [
  {
   "cell_type": "code",
   "execution_count": 86,
   "metadata": {},
   "outputs": [],
   "source": [
    "import csv\n",
    "import pandas as pd\n",
    "from geopy.distance import distance\n",
    "from data.mapping import POSTCODE_MUNICIPALITY_LOOKUP\n",
    "import numpy as np\n",
    "from tqdm import tqdm\n",
    "import matplotlib.pyplot as plt\n"
   ]
  },
  {
   "cell_type": "code",
   "execution_count": 2,
   "metadata": {},
   "outputs": [
    {
     "name": "stdout",
     "output_type": "stream",
     "text": [
      "22069\n",
      "20359\n"
     ]
    }
   ],
   "source": [
    "df = pd.read_csv (r\"data/Stadfangaskra.csv\", header=[0])\n",
    "df.drop(columns=['FID', 'HNITNUM', 'BYGGD', 'LANDNR',  'MATSNR', 'BOKST', 'VIDSK', 'SERHEITI', 'DAGS_INN', 'DAGS_LEIDR', 'GAGNA_EIGN', 'TEGHNIT', 'YFIRFARID', 'YFIRF_HEITI', 'ATH', 'NOTNR', 'LM_HEIMILISFANG', 'VEF_BIRTING'], inplace=True)\n",
    "header = list(df.columns.values)\n",
    "\n",
    "df[\"municipality\"] = df.POSTNR.apply(lambda p: POSTCODE_MUNICIPALITY_LOOKUP.get(p, np.nan))\n",
    "    \n",
    "# post_nr_rvk =[float(x) for x in [101,102,103,104,105,107,108,109,110,111,112,113,116,121,123,124,125,127,128,129,130,132,150,155,161,162]]\n",
    "\n",
    "df = df[df['municipality']=='Reykjavík']\n",
    "df = df[df['HUSNR'].notna()]\n",
    "# print(len(df))\n",
    "df[0:10]\n",
    "df['houses'] =[f\"{row['HEITI_NF']} {int(row['HUSNR'])}, {int(row['POSTNR'])}\" for _,row in df.iterrows()]\n",
    "\n",
    "print(len(df))\n",
    "df.drop_duplicates(subset='houses', inplace=True)\n",
    "print(len(df))\n",
    "df.sort_values(by='houses').to_csv('data/rvk.csv')"
   ]
  },
  {
   "cell_type": "code",
   "execution_count": 3,
   "metadata": {},
   "outputs": [
    {
     "data": {
      "text/html": [
       "<div>\n",
       "<style scoped>\n",
       "    .dataframe tbody tr th:only-of-type {\n",
       "        vertical-align: middle;\n",
       "    }\n",
       "\n",
       "    .dataframe tbody tr th {\n",
       "        vertical-align: top;\n",
       "    }\n",
       "\n",
       "    .dataframe thead th {\n",
       "        text-align: right;\n",
       "    }\n",
       "</style>\n",
       "<table border=\"1\" class=\"dataframe\">\n",
       "  <thead>\n",
       "    <tr style=\"text-align: right;\">\n",
       "      <th></th>\n",
       "      <th>Unnamed: 0</th>\n",
       "      <th>name</th>\n",
       "      <th>address</th>\n",
       "      <th>municipality</th>\n",
       "      <th>postcode</th>\n",
       "      <th>street_nominative</th>\n",
       "      <th>street_dative</th>\n",
       "      <th>house_nr</th>\n",
       "      <th>geometry</th>\n",
       "    </tr>\n",
       "  </thead>\n",
       "  <tbody>\n",
       "    <tr>\n",
       "      <th>0</th>\n",
       "      <td>0</td>\n",
       "      <td>Atlantsolía</td>\n",
       "      <td>Bíldshöfði 20, 110</td>\n",
       "      <td>Reykjavík</td>\n",
       "      <td>110</td>\n",
       "      <td>Bíldshöfði</td>\n",
       "      <td>Bíldshöfða</td>\n",
       "      <td>20.0</td>\n",
       "      <td>POINT (-21.81464694 64.1251776)</td>\n",
       "    </tr>\n",
       "    <tr>\n",
       "      <th>1</th>\n",
       "      <td>1</td>\n",
       "      <td>Atlantsolía</td>\n",
       "      <td>Bústaðavegur 151, 108</td>\n",
       "      <td>Reykjavík</td>\n",
       "      <td>108</td>\n",
       "      <td>Bústaðavegur</td>\n",
       "      <td>Bústaðavegi</td>\n",
       "      <td>151.0</td>\n",
       "      <td>POINT (-21.84783045 64.12088042)</td>\n",
       "    </tr>\n",
       "    <tr>\n",
       "      <th>2</th>\n",
       "      <td>2</td>\n",
       "      <td>Atlantsolía</td>\n",
       "      <td>Flugvallarvegur 5, 102</td>\n",
       "      <td>Reykjavík</td>\n",
       "      <td>102</td>\n",
       "      <td>Flugvallarvegur</td>\n",
       "      <td>Flugvallarvegi</td>\n",
       "      <td>5.0</td>\n",
       "      <td>POINT (-21.92489768 64.13159896)</td>\n",
       "    </tr>\n",
       "    <tr>\n",
       "      <th>3</th>\n",
       "      <td>3</td>\n",
       "      <td>Atlantsolía</td>\n",
       "      <td>Háaleitisbraut 12, 108</td>\n",
       "      <td>Reykjavík</td>\n",
       "      <td>108</td>\n",
       "      <td>Háaleitisbraut</td>\n",
       "      <td>Háaleitisbraut</td>\n",
       "      <td>12.0</td>\n",
       "      <td>POINT (-21.89090998 64.1374088)</td>\n",
       "    </tr>\n",
       "    <tr>\n",
       "      <th>4</th>\n",
       "      <td>4</td>\n",
       "      <td>Atlantsolía</td>\n",
       "      <td>Kirkjustétt 2-6, 113</td>\n",
       "      <td>Reykjavík</td>\n",
       "      <td>113</td>\n",
       "      <td>Kirkjustétt</td>\n",
       "      <td>Kirkjustétt</td>\n",
       "      <td>2.0</td>\n",
       "      <td>POINT (-21.75664476 64.12625023)</td>\n",
       "    </tr>\n",
       "  </tbody>\n",
       "</table>\n",
       "</div>"
      ],
      "text/plain": [
       "   Unnamed: 0         name                 address municipality  postcode  \\\n",
       "0           0  Atlantsolía      Bíldshöfði 20, 110    Reykjavík       110   \n",
       "1           1  Atlantsolía   Bústaðavegur 151, 108    Reykjavík       108   \n",
       "2           2  Atlantsolía  Flugvallarvegur 5, 102    Reykjavík       102   \n",
       "3           3  Atlantsolía  Háaleitisbraut 12, 108    Reykjavík       108   \n",
       "4           4  Atlantsolía    Kirkjustétt 2-6, 113    Reykjavík       113   \n",
       "\n",
       "  street_nominative   street_dative  house_nr  \\\n",
       "0        Bíldshöfði      Bíldshöfða      20.0   \n",
       "1      Bústaðavegur     Bústaðavegi     151.0   \n",
       "2   Flugvallarvegur  Flugvallarvegi       5.0   \n",
       "3    Háaleitisbraut  Háaleitisbraut      12.0   \n",
       "4       Kirkjustétt     Kirkjustétt       2.0   \n",
       "\n",
       "                           geometry  \n",
       "0   POINT (-21.81464694 64.1251776)  \n",
       "1  POINT (-21.84783045 64.12088042)  \n",
       "2  POINT (-21.92489768 64.13159896)  \n",
       "3   POINT (-21.89090998 64.1374088)  \n",
       "4  POINT (-21.75664476 64.12625023)  "
      ]
     },
     "execution_count": 3,
     "metadata": {},
     "output_type": "execute_result"
    }
   ],
   "source": [
    "bs = pd.read_csv (r\"data/bensinstodvar.csv\", header=[0])\n",
    "bs[0:5]"
   ]
  },
  {
   "cell_type": "code",
   "execution_count": 4,
   "metadata": {},
   "outputs": [],
   "source": [
    "# def parallel_processor(function, iterator, chunks=90, units ='lines'):\n",
    "#     results: set = set()\n",
    "#     with ProcessPoolExecutor(max_workers=5) as executor:\n",
    "#         results =  tqdm([executor.map(\n",
    "#             function,\n",
    "#             iterator,\n",
    "#             chunksize=chunks)], \n",
    "#             total=len(iterator),\n",
    "#             unit= ' '+ units)\n",
    "#     return results"
   ]
  },
  {
   "cell_type": "code",
   "execution_count": 5,
   "metadata": {},
   "outputs": [
    {
     "name": "stdout",
     "output_type": "stream",
     "text": [
      "{'Klettagarðar 6', 'Gagnvegur 2', 'Borgartún 39', 'Gylfaflöt 1', 'Hraunbær 102', 'Birkimelur 10', 'Barðastaðir 3', 'Vatnagarðar 40', 'Straumur 9', 'Bíldshöfði 5', 'Kirkjustétt 2-6', 'Ægisíða 102', 'Álfheimar 49', 'Laugavegur 180', 'Hringbraut 12', 'Skógarhlíð 16', 'Fjallkonuvegur 1', 'Grjótháls 8', 'Bíldshöfði 20', 'Sundagarðar 2', 'Kleppsvegur 96', 'Stóragerði  40', 'Bíldshöfði 2', 'Skúlagata 15', 'Fellsmúli 30', 'Elliðabraut - Norðlingaholt', 'Skeifan 5', 'Egilsgata 5', 'Skúlagata 9', 'Stekkjarbakki 2', 'Háaleitisbraut 12', 'Starengi 2', 'Spöngin 43', 'Vallargrund 3', 'Flugvallarvegur 5', 'Bústaðavegur 151', 'Kringlumýrarbraut 100', 'Norðlingabraut 7', 'Ánanaust 12', 'Miklabraut 101', 'Suðurfell 4', 'Álfabakki 7'}\n"
     ]
    },
    {
     "name": "stderr",
     "output_type": "stream",
     "text": [
      "100%|██████████| 20359/20359 [05:49<00:00, 58.31it/s]\n"
     ]
    }
   ],
   "source": [
    "gas_stations=set([r['address'].split(',')[0] for i,r in bs.iterrows()])\n",
    "print(gas_stations)\n",
    "results = {}\n",
    "for index,row in tqdm(df.iterrows(), total=len(df)):\n",
    "    house = row['houses']\n",
    "    if house not in gas_stations:        \n",
    "        results[house] = {x:'NAN' for x in bs['address'].to_list()}\n",
    "        coords_1 = (row['E_HNIT_WGS84'], row['N_HNIT_WGS84'])\n",
    "        for i,r in bs.iterrows():\n",
    "            coords_2 = r['geometry'].replace('POINT (','').replace(')','').replace(' ',',')\n",
    "            results[house][r['address']] = distance(coords_1, coords_2).km\n",
    "\n",
    "# print( d)\n",
    "# df_test\n",
    "pd.DataFrame(results).to_csv(\"data/distance2gas_km.csv\")"
   ]
  },
  {
   "cell_type": "code",
   "execution_count": null,
   "metadata": {},
   "outputs": [],
   "source": []
  },
  {
   "cell_type": "code",
   "execution_count": 46,
   "metadata": {},
   "outputs": [],
   "source": [
    "dist2gas_km=pd.read_csv('data/distance2gas_km.csv', index_col=[0], header=[0]).T"
   ]
  },
  {
   "cell_type": "code",
   "execution_count": 57,
   "metadata": {},
   "outputs": [],
   "source": [
    "import math\n",
    "def roundup(x):\n",
    "    return int(math.ceil(x / 5.0)) * 5\n",
    "\n",
    "walking_speed=6\n",
    "dist2gas_min=dist2gas_km.divide(walking_speed)*60\n",
    "\n",
    "res = dist2gas_min.copy()\n",
    "res[:] = np.nan\n",
    "\n",
    "counts={}\n",
    "for name in dist2gas_min.columns:\n",
    "    for row in dist2gas_min.index:\n",
    "        value=dist2gas_min.loc[row,name]\n",
    "        rounded_value =roundup(value)\n",
    "        res.loc[row,name] = rounded_value\n",
    "        if rounded_value in counts:\n",
    "            counts[rounded_value]+=1\n",
    "        else:\n",
    "            counts[rounded_value]=1\n",
    "\n",
    "res.to_csv(f'data/bensinstodvar_min.csv')\n"
   ]
  },
  {
   "cell_type": "code",
   "execution_count": 88,
   "metadata": {},
   "outputs": [],
   "source": [
    "the_sum =sum(counts.values())\n",
    "\n",
    "with open('data/stats','w') as f_in:\n",
    "    f_in.write(f\"Sum:\\t{the_sum}\\n\")\n",
    "    f_in.write(\"min\\tcount\\tratio%\\tcumulative%\\n\")\n",
    "    cumulative=0\n",
    "    x_axis=[]\n",
    "    y_axis=[]\n",
    "    for x in sorted(counts):\n",
    "        ratio=(counts[x]/the_sum)*100\n",
    "        cumulative+=ratio\n",
    "        x_axis.append(x)\n",
    "        y_axis.append(cumulative)\n",
    "        f_in.write(f\"{x}\\t{counts[x]}\\t{round(ratio,3)}\\t{round(cumulative ,3)}\\n\")"
   ]
  },
  {
   "cell_type": "code",
   "execution_count": 92,
   "metadata": {},
   "outputs": [
    {
     "ename": "TypeError",
     "evalue": "unsupported operand type(s) for +: 'int' and 'str'",
     "output_type": "error",
     "traceback": [
      "\u001b[0;31m---------------------------------------------------------------------------\u001b[0m",
      "\u001b[0;31mTypeError\u001b[0m                                 Traceback (most recent call last)",
      "\u001b[1;32m/home/derik/projects/korta_fikt/korta.ipynb Cell 10'\u001b[0m in \u001b[0;36m<module>\u001b[0;34m\u001b[0m\n\u001b[1;32m      <a href='vscode-notebook-cell:/home/derik/projects/korta_fikt/korta.ipynb#ch0000011?line=0'>1</a>\u001b[0m ibuar_per_postnr\u001b[39m=\u001b[39m{x\u001b[39m.\u001b[39msplit(\u001b[39m'\u001b[39m\u001b[39m\\t\u001b[39;00m\u001b[39m'\u001b[39m)[\u001b[39m0\u001b[39m]:x\u001b[39m.\u001b[39msplit(\u001b[39m'\u001b[39m\u001b[39m\\t\u001b[39;00m\u001b[39m'\u001b[39m)[\u001b[39m1\u001b[39m] \u001b[39mfor\u001b[39;00m x \u001b[39min\u001b[39;00m \u001b[39mopen\u001b[39m(\u001b[39m'\u001b[39m\u001b[39mdata/ibuafjoldi_per_postnr.tsv\u001b[39m\u001b[39m'\u001b[39m)}\n\u001b[0;32m----> <a href='vscode-notebook-cell:/home/derik/projects/korta_fikt/korta.ipynb#ch0000011?line=1'>2</a>\u001b[0m heildarfjoldi_ibua \u001b[39m=\u001b[39m \u001b[39msum\u001b[39;49m(ibuar_per_postnr\u001b[39m.\u001b[39;49mvalues())\n\u001b[1;32m      <a href='vscode-notebook-cell:/home/derik/projects/korta_fikt/korta.ipynb#ch0000011?line=2'>3</a>\u001b[0m ibur_per_postnr_porportion\n",
      "\u001b[0;31mTypeError\u001b[0m: unsupported operand type(s) for +: 'int' and 'str'"
     ]
    }
   ],
   "source": [
    "ibuar_per_postnr={int(x.split('\\t')[0]):int(x.split('\\t')[1]) for x in open('data/ibuafjoldi_per_postnr.tsv')}\n",
    "heildarfjoldi_ibua = sum(ibuar_per_postnr.values())\n",
    "ibur_per_postnr_porportion"
   ]
  },
  {
   "cell_type": "code",
   "execution_count": 89,
   "metadata": {},
   "outputs": [
    {
     "data": {
      "text/plain": [
       "[<matplotlib.lines.Line2D at 0x7f4320ea01c0>]"
      ]
     },
     "execution_count": 89,
     "metadata": {},
     "output_type": "execute_result"
    },
    {
     "data": {
      "image/png": "[encoded data removed]",
      "text/plain": [
       "<Figure size 432x288 with 1 Axes>"
      ]
     },
     "metadata": {
      "needs_background": "light"
     },
     "output_type": "display_data"
    }
   ],
   "source": [
    "plt.plot(x_axis,y_axis)\n",
    "plt.xlabel('Mínútur ')\n",
    "plt.ylabel('entry b')"
   ]
  }
 ],
 "metadata": {
  "interpreter": {
   "hash": "ef6d4f5671476e6c1296bc694bcfbf99a2a31f055d5c06f09eea39465c19c92e"
  },
  "kernelspec": {
   "display_name": "Python 3.9.6 ('althingi')",
   "language": "python",
   "name": "python3"
  },
  "language_info": {
   "codemirror_mode": {
    "name": "ipython",
    "version": 3
   },
   "file_extension": ".py",
   "mimetype": "text/x-python",
   "name": "python",
   "nbconvert_exporter": "python",
   "pygments_lexer": "ipython3",
   "version": "3.9.7"
  },
  "orig_nbformat": 4
 },
 "nbformat": 4,
 "nbformat_minor": 2
}
